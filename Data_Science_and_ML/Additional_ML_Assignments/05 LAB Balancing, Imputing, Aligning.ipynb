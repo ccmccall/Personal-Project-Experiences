{
 "cells": [
  {
   "cell_type": "markdown",
   "metadata": {
    "hideCode": false,
    "hidePrompt": false
   },
   "source": [
    "# Balancing, Imputing, & Aligning"
   ]
  },
  {
   "cell_type": "markdown",
   "metadata": {},
   "source": [
    "**Write and execute R code in the code cells per the instructions.  The expected results are provided for you directly following the code cells.**"
   ]
  },
  {
   "cell_type": "code",
   "execution_count": 1,
   "metadata": {},
   "outputs": [
    {
     "data": {
      "text/html": [
       "<p style=\"text-align:center; font-size:10px;\">\n",
       ".................................................... start of document ....................................................\n",
       "</p>"
      ]
     },
     "metadata": {},
     "output_type": "display_data"
    }
   ],
   "source": [
    "f = \"setup.R\"; for (i in 1:10) { if (file.exists(f)) break else f = paste0(\"../\", f) }; source(f)"
   ]
  },
  {
   "cell_type": "markdown",
   "metadata": {
    "hide_input": false
   },
   "source": [
    "## Data"
   ]
  },
  {
   "cell_type": "markdown",
   "metadata": {},
   "source": [
    "Here is a dataset of some daily measurements regarding popularity of some product. "
   ]
  },
  {
   "cell_type": "code",
   "execution_count": 17,
   "metadata": {
    "hideCode": false,
    "hidePrompt": false,
    "hide_input": false,
    "run_control": {
     "marked": false
    },
    "scrolled": true
   },
   "outputs": [
    {
     "data": {
      "text/html": [
       "<table>\n",
       "<thead><tr><th scope=col>date</th><th scope=col>x1</th><th scope=col>x2</th><th scope=col>x3</th></tr></thead>\n",
       "<tbody>\n",
       "\t<tr><td>2017-12-30</td><td> 2.5      </td><td> 9.0      </td><td> 9.0      </td></tr>\n",
       "\t<tr><td>2017-12-31</td><td> 2.0      </td><td>  NA      </td><td>10.0      </td></tr>\n",
       "\t<tr><td>2018-01-01</td><td> 9.0      </td><td>  NA      </td><td> 1.0      </td></tr>\n",
       "\t<tr><td>2018-01-02</td><td> 6.5      </td><td>  NA      </td><td> 2.0      </td></tr>\n",
       "\t<tr><td>2018-01-03</td><td> 8.0      </td><td> 2.5      </td><td> 1.5      </td></tr>\n",
       "\t<tr><td>2018-01-04</td><td> 4.0      </td><td> 8.5      </td><td>10.5      </td></tr>\n",
       "\t<tr><td>2018-01-05</td><td> 4.0      </td><td> 4.0      </td><td> 4.0      </td></tr>\n",
       "\t<tr><td>2018-01-06</td><td>10.5      </td><td> 7.5      </td><td>11.0      </td></tr>\n",
       "\t<tr><td>2018-01-07</td><td> 3.0      </td><td> 3.0      </td><td> 3.0      </td></tr>\n",
       "\t<tr><td>2018-01-08</td><td>23.0      </td><td>23.0      </td><td>23.0      </td></tr>\n",
       "\t<tr><td>2018-01-09</td><td>12.0      </td><td>12.0      </td><td>12.0      </td></tr>\n",
       "\t<tr><td>2018-01-10</td><td>20.0      </td><td>20.0      </td><td>20.0      </td></tr>\n",
       "</tbody>\n",
       "</table>\n"
      ],
      "text/latex": [
       "\\begin{tabular}{r|llll}\n",
       " date & x1 & x2 & x3\\\\\n",
       "\\hline\n",
       "\t 2017-12-30 &  2.5       &  9.0       &  9.0      \\\\\n",
       "\t 2017-12-31 &  2.0       &   NA       & 10.0      \\\\\n",
       "\t 2018-01-01 &  9.0       &   NA       &  1.0      \\\\\n",
       "\t 2018-01-02 &  6.5       &   NA       &  2.0      \\\\\n",
       "\t 2018-01-03 &  8.0       &  2.5       &  1.5      \\\\\n",
       "\t 2018-01-04 &  4.0       &  8.5       & 10.5      \\\\\n",
       "\t 2018-01-05 &  4.0       &  4.0       &  4.0      \\\\\n",
       "\t 2018-01-06 & 10.5       &  7.5       & 11.0      \\\\\n",
       "\t 2018-01-07 &  3.0       &  3.0       &  3.0      \\\\\n",
       "\t 2018-01-08 & 23.0       & 23.0       & 23.0      \\\\\n",
       "\t 2018-01-09 & 12.0       & 12.0       & 12.0      \\\\\n",
       "\t 2018-01-10 & 20.0       & 20.0       & 20.0      \\\\\n",
       "\\end{tabular}\n"
      ],
      "text/markdown": [
       "\n",
       "| date | x1 | x2 | x3 |\n",
       "|---|---|---|---|\n",
       "| 2017-12-30 |  2.5       |  9.0       |  9.0       |\n",
       "| 2017-12-31 |  2.0       |   NA       | 10.0       |\n",
       "| 2018-01-01 |  9.0       |   NA       |  1.0       |\n",
       "| 2018-01-02 |  6.5       |   NA       |  2.0       |\n",
       "| 2018-01-03 |  8.0       |  2.5       |  1.5       |\n",
       "| 2018-01-04 |  4.0       |  8.5       | 10.5       |\n",
       "| 2018-01-05 |  4.0       |  4.0       |  4.0       |\n",
       "| 2018-01-06 | 10.5       |  7.5       | 11.0       |\n",
       "| 2018-01-07 |  3.0       |  3.0       |  3.0       |\n",
       "| 2018-01-08 | 23.0       | 23.0       | 23.0       |\n",
       "| 2018-01-09 | 12.0       | 12.0       | 12.0       |\n",
       "| 2018-01-10 | 20.0       | 20.0       | 20.0       |\n",
       "\n"
      ],
      "text/plain": [
       "   date       x1   x2   x3  \n",
       "1  2017-12-30  2.5  9.0  9.0\n",
       "2  2017-12-31  2.0   NA 10.0\n",
       "3  2018-01-01  9.0   NA  1.0\n",
       "4  2018-01-02  6.5   NA  2.0\n",
       "5  2018-01-03  8.0  2.5  1.5\n",
       "6  2018-01-04  4.0  8.5 10.5\n",
       "7  2018-01-05  4.0  4.0  4.0\n",
       "8  2018-01-06 10.5  7.5 11.0\n",
       "9  2018-01-07  3.0  3.0  3.0\n",
       "10 2018-01-08 23.0 23.0 23.0\n",
       "11 2018-01-09 12.0 12.0 12.0\n",
       "12 2018-01-10 20.0 20.0 20.0"
      ]
     },
     "metadata": {},
     "output_type": "display_data"
    }
   ],
   "source": [
    "data = data.frame(date=ymd(c(\"2017-12-30\",\"2017-12-31\",\"2018-01-01\",\"2018-01-02\",\"2018-01-03\",\"2018-01-04\",\n",
    "                             \"2018-01-05\",\"2018-01-06\",\"2018-01-07\",\"2018-01-08\",\"2018-01-09\",\"2018-01-10\")),\n",
    "                  x1=c(2.5, 2, 9, 6.5, 8, 4, 4, 10.5, 3, 23, 12, 20),\n",
    "                  x2=c(9, NA, NA, NA, 2.5, 8.5, 4, 7.5, 3, 23, 12, 20),\n",
    "                  x3=c(9, 10, 1, 2, 1.5, 10.5, 4, 11, 3, 23, 12, 20))\n",
    "data"
   ]
  },
  {
   "cell_type": "markdown",
   "metadata": {},
   "source": [
    "Here is a related dataset of daily revenue generated by each of 2 teams that sell the product."
   ]
  },
  {
   "cell_type": "code",
   "execution_count": 18,
   "metadata": {},
   "outputs": [
    {
     "data": {
      "text/html": [
       "<table>\n",
       "<thead><tr><th scope=col>date</th><th scope=col>revenue</th><th scope=col>team</th></tr></thead>\n",
       "<tbody>\n",
       "\t<tr><td>2017-12-30</td><td>1000      </td><td>A         </td></tr>\n",
       "\t<tr><td>2017-12-30</td><td>1010      </td><td>B         </td></tr>\n",
       "\t<tr><td>2017-12-31</td><td>1200      </td><td>A         </td></tr>\n",
       "\t<tr><td>2017-12-31</td><td>1150      </td><td>B         </td></tr>\n",
       "\t<tr><td>2018-01-01</td><td> 805      </td><td>A         </td></tr>\n",
       "\t<tr><td>2018-01-01</td><td> 806      </td><td>B         </td></tr>\n",
       "\t<tr><td>2018-01-02</td><td> 790      </td><td>A         </td></tr>\n",
       "\t<tr><td>2018-01-02</td><td> 795      </td><td>B         </td></tr>\n",
       "\t<tr><td>2018-01-03</td><td> 800      </td><td>A         </td></tr>\n",
       "\t<tr><td>2018-01-03</td><td> 810      </td><td>B         </td></tr>\n",
       "\t<tr><td>2018-01-04</td><td> 803      </td><td>A         </td></tr>\n",
       "\t<tr><td>2018-01-04</td><td> 801      </td><td>B         </td></tr>\n",
       "\t<tr><td>2018-01-05</td><td> 800      </td><td>A         </td></tr>\n",
       "\t<tr><td>2018-01-05</td><td> 795      </td><td>B         </td></tr>\n",
       "\t<tr><td>2018-01-06</td><td>1000      </td><td>A         </td></tr>\n",
       "\t<tr><td>2018-01-06</td><td>1010      </td><td>B         </td></tr>\n",
       "\t<tr><td>2018-01-07</td><td>1200      </td><td>A         </td></tr>\n",
       "\t<tr><td>2018-01-07</td><td>1150      </td><td>B         </td></tr>\n",
       "\t<tr><td>2018-01-08</td><td> 815      </td><td>A         </td></tr>\n",
       "\t<tr><td>2018-01-08</td><td> 806      </td><td>B         </td></tr>\n",
       "\t<tr><td>2018-01-09</td><td> 800      </td><td>A         </td></tr>\n",
       "\t<tr><td>2018-01-09</td><td> 791      </td><td>B         </td></tr>\n",
       "\t<tr><td>2018-01-10</td><td> 802      </td><td>A         </td></tr>\n",
       "\t<tr><td>2018-01-10</td><td> 815      </td><td>B         </td></tr>\n",
       "</tbody>\n",
       "</table>\n"
      ],
      "text/latex": [
       "\\begin{tabular}{r|lll}\n",
       " date & revenue & team\\\\\n",
       "\\hline\n",
       "\t 2017-12-30 & 1000       & A         \\\\\n",
       "\t 2017-12-30 & 1010       & B         \\\\\n",
       "\t 2017-12-31 & 1200       & A         \\\\\n",
       "\t 2017-12-31 & 1150       & B         \\\\\n",
       "\t 2018-01-01 &  805       & A         \\\\\n",
       "\t 2018-01-01 &  806       & B         \\\\\n",
       "\t 2018-01-02 &  790       & A         \\\\\n",
       "\t 2018-01-02 &  795       & B         \\\\\n",
       "\t 2018-01-03 &  800       & A         \\\\\n",
       "\t 2018-01-03 &  810       & B         \\\\\n",
       "\t 2018-01-04 &  803       & A         \\\\\n",
       "\t 2018-01-04 &  801       & B         \\\\\n",
       "\t 2018-01-05 &  800       & A         \\\\\n",
       "\t 2018-01-05 &  795       & B         \\\\\n",
       "\t 2018-01-06 & 1000       & A         \\\\\n",
       "\t 2018-01-06 & 1010       & B         \\\\\n",
       "\t 2018-01-07 & 1200       & A         \\\\\n",
       "\t 2018-01-07 & 1150       & B         \\\\\n",
       "\t 2018-01-08 &  815       & A         \\\\\n",
       "\t 2018-01-08 &  806       & B         \\\\\n",
       "\t 2018-01-09 &  800       & A         \\\\\n",
       "\t 2018-01-09 &  791       & B         \\\\\n",
       "\t 2018-01-10 &  802       & A         \\\\\n",
       "\t 2018-01-10 &  815       & B         \\\\\n",
       "\\end{tabular}\n"
      ],
      "text/markdown": [
       "\n",
       "| date | revenue | team |\n",
       "|---|---|---|\n",
       "| 2017-12-30 | 1000       | A          |\n",
       "| 2017-12-30 | 1010       | B          |\n",
       "| 2017-12-31 | 1200       | A          |\n",
       "| 2017-12-31 | 1150       | B          |\n",
       "| 2018-01-01 |  805       | A          |\n",
       "| 2018-01-01 |  806       | B          |\n",
       "| 2018-01-02 |  790       | A          |\n",
       "| 2018-01-02 |  795       | B          |\n",
       "| 2018-01-03 |  800       | A          |\n",
       "| 2018-01-03 |  810       | B          |\n",
       "| 2018-01-04 |  803       | A          |\n",
       "| 2018-01-04 |  801       | B          |\n",
       "| 2018-01-05 |  800       | A          |\n",
       "| 2018-01-05 |  795       | B          |\n",
       "| 2018-01-06 | 1000       | A          |\n",
       "| 2018-01-06 | 1010       | B          |\n",
       "| 2018-01-07 | 1200       | A          |\n",
       "| 2018-01-07 | 1150       | B          |\n",
       "| 2018-01-08 |  815       | A          |\n",
       "| 2018-01-08 |  806       | B          |\n",
       "| 2018-01-09 |  800       | A          |\n",
       "| 2018-01-09 |  791       | B          |\n",
       "| 2018-01-10 |  802       | A          |\n",
       "| 2018-01-10 |  815       | B          |\n",
       "\n"
      ],
      "text/plain": [
       "   date       revenue team\n",
       "1  2017-12-30 1000    A   \n",
       "2  2017-12-30 1010    B   \n",
       "3  2017-12-31 1200    A   \n",
       "4  2017-12-31 1150    B   \n",
       "5  2018-01-01  805    A   \n",
       "6  2018-01-01  806    B   \n",
       "7  2018-01-02  790    A   \n",
       "8  2018-01-02  795    B   \n",
       "9  2018-01-03  800    A   \n",
       "10 2018-01-03  810    B   \n",
       "11 2018-01-04  803    A   \n",
       "12 2018-01-04  801    B   \n",
       "13 2018-01-05  800    A   \n",
       "14 2018-01-05  795    B   \n",
       "15 2018-01-06 1000    A   \n",
       "16 2018-01-06 1010    B   \n",
       "17 2018-01-07 1200    A   \n",
       "18 2018-01-07 1150    B   \n",
       "19 2018-01-08  815    A   \n",
       "20 2018-01-08  806    B   \n",
       "21 2018-01-09  800    A   \n",
       "22 2018-01-09  791    B   \n",
       "23 2018-01-10  802    A   \n",
       "24 2018-01-10  815    B   "
      ]
     },
     "metadata": {},
     "output_type": "display_data"
    }
   ],
   "source": [
    "data.r = data.frame(date=ymd(\"2017-12-30\",\"2017-12-30\",\"2017-12-31\",\"2017-12-31\",\"2018-01-01\",\"2018-01-01\",\"2018-01-02\",\"2018-01-02\",\n",
    "                             \"2018-01-03\",\"2018-01-03\",\"2018-01-04\",\"2018-01-04\",\"2018-01-05\",\"2018-01-05\",\"2018-01-06\",\"2018-01-06\",\n",
    "                             \"2018-01-07\",\"2018-01-07\",\"2018-01-08\",\"2018-01-08\",\"2018-01-09\",\"2018-01-09\",\"2018-01-10\",\"2018-01-10\"),\n",
    "                     revenue=c(1000, 1010, 1200, 1150, 805, 806, 790, 795, 800, 810, 803, 801, 800, 795,\n",
    "                               1000, 1010, 1200, 1150, 815, 806, 800, 791, 802, 815),\n",
    "                     team=c(\"A\",\"B\"))\n",
    "data.r"
   ]
  },
  {
   "cell_type": "markdown",
   "metadata": {},
   "source": [
    "## Problem 1\n",
    "\n",
    "Add synthetic variables for day of the week (categorical) and weekend (TRUE/FALSE).  Arrange the variables such that the synthetic variables appear second and third.  Show the revised table.\n",
    "\n",
    "You may want to use these function(s):\n",
    "\n",
    "* weekdays()\n",
    "\n",
    "To synthesize the weekend variable, just assign a new column to a criterion."
   ]
  },
  {
   "cell_type": "code",
   "execution_count": 37,
   "metadata": {},
   "outputs": [
    {
     "data": {
      "text/html": [
       "<table>\n",
       "<thead><tr><th scope=col>date</th><th scope=col>dow</th><th scope=col>x1</th><th scope=col>x2</th><th scope=col>x3</th></tr></thead>\n",
       "<tbody>\n",
       "\t<tr><td>2017-12-30</td><td>Saturday  </td><td> 2.5      </td><td> 9.0      </td><td> 9.0      </td></tr>\n",
       "\t<tr><td>2017-12-31</td><td>Sunday    </td><td> 2.0      </td><td>  NA      </td><td>10.0      </td></tr>\n",
       "\t<tr><td>2018-01-01</td><td>Monday    </td><td> 9.0      </td><td>  NA      </td><td> 1.0      </td></tr>\n",
       "\t<tr><td>2018-01-02</td><td>Tuesday   </td><td> 6.5      </td><td>  NA      </td><td> 2.0      </td></tr>\n",
       "\t<tr><td>2018-01-03</td><td>Wednesday </td><td> 8.0      </td><td> 2.5      </td><td> 1.5      </td></tr>\n",
       "\t<tr><td>2018-01-04</td><td>Thursday  </td><td> 4.0      </td><td> 8.5      </td><td>10.5      </td></tr>\n",
       "\t<tr><td>2018-01-05</td><td>Friday    </td><td> 4.0      </td><td> 4.0      </td><td> 4.0      </td></tr>\n",
       "\t<tr><td>2018-01-06</td><td>Saturday  </td><td>10.5      </td><td> 7.5      </td><td>11.0      </td></tr>\n",
       "\t<tr><td>2018-01-07</td><td>Sunday    </td><td> 3.0      </td><td> 3.0      </td><td> 3.0      </td></tr>\n",
       "\t<tr><td>2018-01-08</td><td>Monday    </td><td>23.0      </td><td>23.0      </td><td>23.0      </td></tr>\n",
       "\t<tr><td>2018-01-09</td><td>Tuesday   </td><td>12.0      </td><td>12.0      </td><td>12.0      </td></tr>\n",
       "\t<tr><td>2018-01-10</td><td>Wednesday </td><td>20.0      </td><td>20.0      </td><td>20.0      </td></tr>\n",
       "</tbody>\n",
       "</table>\n"
      ],
      "text/latex": [
       "\\begin{tabular}{r|lllll}\n",
       " date & dow & x1 & x2 & x3\\\\\n",
       "\\hline\n",
       "\t 2017-12-30 & Saturday   &  2.5       &  9.0       &  9.0      \\\\\n",
       "\t 2017-12-31 & Sunday     &  2.0       &   NA       & 10.0      \\\\\n",
       "\t 2018-01-01 & Monday     &  9.0       &   NA       &  1.0      \\\\\n",
       "\t 2018-01-02 & Tuesday    &  6.5       &   NA       &  2.0      \\\\\n",
       "\t 2018-01-03 & Wednesday  &  8.0       &  2.5       &  1.5      \\\\\n",
       "\t 2018-01-04 & Thursday   &  4.0       &  8.5       & 10.5      \\\\\n",
       "\t 2018-01-05 & Friday     &  4.0       &  4.0       &  4.0      \\\\\n",
       "\t 2018-01-06 & Saturday   & 10.5       &  7.5       & 11.0      \\\\\n",
       "\t 2018-01-07 & Sunday     &  3.0       &  3.0       &  3.0      \\\\\n",
       "\t 2018-01-08 & Monday     & 23.0       & 23.0       & 23.0      \\\\\n",
       "\t 2018-01-09 & Tuesday    & 12.0       & 12.0       & 12.0      \\\\\n",
       "\t 2018-01-10 & Wednesday  & 20.0       & 20.0       & 20.0      \\\\\n",
       "\\end{tabular}\n"
      ],
      "text/markdown": [
       "\n",
       "| date | dow | x1 | x2 | x3 |\n",
       "|---|---|---|---|---|\n",
       "| 2017-12-30 | Saturday   |  2.5       |  9.0       |  9.0       |\n",
       "| 2017-12-31 | Sunday     |  2.0       |   NA       | 10.0       |\n",
       "| 2018-01-01 | Monday     |  9.0       |   NA       |  1.0       |\n",
       "| 2018-01-02 | Tuesday    |  6.5       |   NA       |  2.0       |\n",
       "| 2018-01-03 | Wednesday  |  8.0       |  2.5       |  1.5       |\n",
       "| 2018-01-04 | Thursday   |  4.0       |  8.5       | 10.5       |\n",
       "| 2018-01-05 | Friday     |  4.0       |  4.0       |  4.0       |\n",
       "| 2018-01-06 | Saturday   | 10.5       |  7.5       | 11.0       |\n",
       "| 2018-01-07 | Sunday     |  3.0       |  3.0       |  3.0       |\n",
       "| 2018-01-08 | Monday     | 23.0       | 23.0       | 23.0       |\n",
       "| 2018-01-09 | Tuesday    | 12.0       | 12.0       | 12.0       |\n",
       "| 2018-01-10 | Wednesday  | 20.0       | 20.0       | 20.0       |\n",
       "\n"
      ],
      "text/plain": [
       "   date       dow       x1   x2   x3  \n",
       "1  2017-12-30 Saturday   2.5  9.0  9.0\n",
       "2  2017-12-31 Sunday     2.0   NA 10.0\n",
       "3  2018-01-01 Monday     9.0   NA  1.0\n",
       "4  2018-01-02 Tuesday    6.5   NA  2.0\n",
       "5  2018-01-03 Wednesday  8.0  2.5  1.5\n",
       "6  2018-01-04 Thursday   4.0  8.5 10.5\n",
       "7  2018-01-05 Friday     4.0  4.0  4.0\n",
       "8  2018-01-06 Saturday  10.5  7.5 11.0\n",
       "9  2018-01-07 Sunday     3.0  3.0  3.0\n",
       "10 2018-01-08 Monday    23.0 23.0 23.0\n",
       "11 2018-01-09 Tuesday   12.0 12.0 12.0\n",
       "12 2018-01-10 Wednesday 20.0 20.0 20.0"
      ]
     },
     "metadata": {},
     "output_type": "display_data"
    }
   ],
   "source": [
    "new = cbind(date=data[, 1], dow=weekdays(data$date), data[, 2:4])\n",
    "new"
   ]
  },
  {
   "cell_type": "code",
   "execution_count": 41,
   "metadata": {
    "scrolled": true
   },
   "outputs": [
    {
     "data": {
      "text/html": [
       "<table>\n",
       "<thead><tr><th scope=col>date</th><th scope=col>dow</th><th scope=col>x1</th><th scope=col>x2</th><th scope=col>x3</th><th scope=col>weekend</th></tr></thead>\n",
       "<tbody>\n",
       "\t<tr><td>2017-12-30</td><td>Saturday  </td><td> 2.5      </td><td> 9.0      </td><td> 9.0      </td><td>TRUE      </td></tr>\n",
       "\t<tr><td>2017-12-31</td><td>Sunday    </td><td> 2.0      </td><td>  NA      </td><td>10.0      </td><td>TRUE      </td></tr>\n",
       "\t<tr><td>2018-01-01</td><td>Monday    </td><td> 9.0      </td><td>  NA      </td><td> 1.0      </td><td>FALSE     </td></tr>\n",
       "\t<tr><td>2018-01-02</td><td>Tuesday   </td><td> 6.5      </td><td>  NA      </td><td> 2.0      </td><td>FALSE     </td></tr>\n",
       "\t<tr><td>2018-01-03</td><td>Wednesday </td><td> 8.0      </td><td> 2.5      </td><td> 1.5      </td><td>FALSE     </td></tr>\n",
       "\t<tr><td>2018-01-04</td><td>Thursday  </td><td> 4.0      </td><td> 8.5      </td><td>10.5      </td><td>FALSE     </td></tr>\n",
       "\t<tr><td>2018-01-05</td><td>Friday    </td><td> 4.0      </td><td> 4.0      </td><td> 4.0      </td><td>FALSE     </td></tr>\n",
       "\t<tr><td>2018-01-06</td><td>Saturday  </td><td>10.5      </td><td> 7.5      </td><td>11.0      </td><td>TRUE      </td></tr>\n",
       "\t<tr><td>2018-01-07</td><td>Sunday    </td><td> 3.0      </td><td> 3.0      </td><td> 3.0      </td><td>TRUE      </td></tr>\n",
       "\t<tr><td>2018-01-08</td><td>Monday    </td><td>23.0      </td><td>23.0      </td><td>23.0      </td><td>FALSE     </td></tr>\n",
       "\t<tr><td>2018-01-09</td><td>Tuesday   </td><td>12.0      </td><td>12.0      </td><td>12.0      </td><td>FALSE     </td></tr>\n",
       "\t<tr><td>2018-01-10</td><td>Wednesday </td><td>20.0      </td><td>20.0      </td><td>20.0      </td><td>FALSE     </td></tr>\n",
       "</tbody>\n",
       "</table>\n"
      ],
      "text/latex": [
       "\\begin{tabular}{r|llllll}\n",
       " date & dow & x1 & x2 & x3 & weekend\\\\\n",
       "\\hline\n",
       "\t 2017-12-30 & Saturday   &  2.5       &  9.0       &  9.0       & TRUE      \\\\\n",
       "\t 2017-12-31 & Sunday     &  2.0       &   NA       & 10.0       & TRUE      \\\\\n",
       "\t 2018-01-01 & Monday     &  9.0       &   NA       &  1.0       & FALSE     \\\\\n",
       "\t 2018-01-02 & Tuesday    &  6.5       &   NA       &  2.0       & FALSE     \\\\\n",
       "\t 2018-01-03 & Wednesday  &  8.0       &  2.5       &  1.5       & FALSE     \\\\\n",
       "\t 2018-01-04 & Thursday   &  4.0       &  8.5       & 10.5       & FALSE     \\\\\n",
       "\t 2018-01-05 & Friday     &  4.0       &  4.0       &  4.0       & FALSE     \\\\\n",
       "\t 2018-01-06 & Saturday   & 10.5       &  7.5       & 11.0       & TRUE      \\\\\n",
       "\t 2018-01-07 & Sunday     &  3.0       &  3.0       &  3.0       & TRUE      \\\\\n",
       "\t 2018-01-08 & Monday     & 23.0       & 23.0       & 23.0       & FALSE     \\\\\n",
       "\t 2018-01-09 & Tuesday    & 12.0       & 12.0       & 12.0       & FALSE     \\\\\n",
       "\t 2018-01-10 & Wednesday  & 20.0       & 20.0       & 20.0       & FALSE     \\\\\n",
       "\\end{tabular}\n"
      ],
      "text/markdown": [
       "\n",
       "| date | dow | x1 | x2 | x3 | weekend |\n",
       "|---|---|---|---|---|---|\n",
       "| 2017-12-30 | Saturday   |  2.5       |  9.0       |  9.0       | TRUE       |\n",
       "| 2017-12-31 | Sunday     |  2.0       |   NA       | 10.0       | TRUE       |\n",
       "| 2018-01-01 | Monday     |  9.0       |   NA       |  1.0       | FALSE      |\n",
       "| 2018-01-02 | Tuesday    |  6.5       |   NA       |  2.0       | FALSE      |\n",
       "| 2018-01-03 | Wednesday  |  8.0       |  2.5       |  1.5       | FALSE      |\n",
       "| 2018-01-04 | Thursday   |  4.0       |  8.5       | 10.5       | FALSE      |\n",
       "| 2018-01-05 | Friday     |  4.0       |  4.0       |  4.0       | FALSE      |\n",
       "| 2018-01-06 | Saturday   | 10.5       |  7.5       | 11.0       | TRUE       |\n",
       "| 2018-01-07 | Sunday     |  3.0       |  3.0       |  3.0       | TRUE       |\n",
       "| 2018-01-08 | Monday     | 23.0       | 23.0       | 23.0       | FALSE      |\n",
       "| 2018-01-09 | Tuesday    | 12.0       | 12.0       | 12.0       | FALSE      |\n",
       "| 2018-01-10 | Wednesday  | 20.0       | 20.0       | 20.0       | FALSE      |\n",
       "\n"
      ],
      "text/plain": [
       "   date       dow       x1   x2   x3   weekend\n",
       "1  2017-12-30 Saturday   2.5  9.0  9.0 TRUE   \n",
       "2  2017-12-31 Sunday     2.0   NA 10.0 TRUE   \n",
       "3  2018-01-01 Monday     9.0   NA  1.0 FALSE  \n",
       "4  2018-01-02 Tuesday    6.5   NA  2.0 FALSE  \n",
       "5  2018-01-03 Wednesday  8.0  2.5  1.5 FALSE  \n",
       "6  2018-01-04 Thursday   4.0  8.5 10.5 FALSE  \n",
       "7  2018-01-05 Friday     4.0  4.0  4.0 FALSE  \n",
       "8  2018-01-06 Saturday  10.5  7.5 11.0 TRUE   \n",
       "9  2018-01-07 Sunday     3.0  3.0  3.0 TRUE   \n",
       "10 2018-01-08 Monday    23.0 23.0 23.0 FALSE  \n",
       "11 2018-01-09 Tuesday   12.0 12.0 12.0 FALSE  \n",
       "12 2018-01-10 Wednesday 20.0 20.0 20.0 FALSE  "
      ]
     },
     "metadata": {},
     "output_type": "display_data"
    }
   ],
   "source": [
    "new$weekend = factor(new$dow == \"Saturday\" | new$dow == \"Sunday\", levels=c(TRUE, FALSE), labels=c(\"TRUE\", \"FALSE\"))\n",
    "new"
   ]
  },
  {
   "cell_type": "code",
   "execution_count": 43,
   "metadata": {},
   "outputs": [
    {
     "data": {
      "text/html": [
       "<table>\n",
       "<thead><tr><th scope=col>date</th><th scope=col>dow</th><th scope=col>weekend</th><th scope=col>x1</th><th scope=col>x2</th><th scope=col>x3</th></tr></thead>\n",
       "<tbody>\n",
       "\t<tr><td>2017-12-30</td><td>Saturday  </td><td>TRUE      </td><td> 2.5      </td><td> 9.0      </td><td> 9.0      </td></tr>\n",
       "\t<tr><td>2017-12-31</td><td>Sunday    </td><td>TRUE      </td><td> 2.0      </td><td>  NA      </td><td>10.0      </td></tr>\n",
       "\t<tr><td>2018-01-01</td><td>Monday    </td><td>FALSE     </td><td> 9.0      </td><td>  NA      </td><td> 1.0      </td></tr>\n",
       "\t<tr><td>2018-01-02</td><td>Tuesday   </td><td>FALSE     </td><td> 6.5      </td><td>  NA      </td><td> 2.0      </td></tr>\n",
       "\t<tr><td>2018-01-03</td><td>Wednesday </td><td>FALSE     </td><td> 8.0      </td><td> 2.5      </td><td> 1.5      </td></tr>\n",
       "\t<tr><td>2018-01-04</td><td>Thursday  </td><td>FALSE     </td><td> 4.0      </td><td> 8.5      </td><td>10.5      </td></tr>\n",
       "\t<tr><td>2018-01-05</td><td>Friday    </td><td>FALSE     </td><td> 4.0      </td><td> 4.0      </td><td> 4.0      </td></tr>\n",
       "\t<tr><td>2018-01-06</td><td>Saturday  </td><td>TRUE      </td><td>10.5      </td><td> 7.5      </td><td>11.0      </td></tr>\n",
       "\t<tr><td>2018-01-07</td><td>Sunday    </td><td>TRUE      </td><td> 3.0      </td><td> 3.0      </td><td> 3.0      </td></tr>\n",
       "\t<tr><td>2018-01-08</td><td>Monday    </td><td>FALSE     </td><td>23.0      </td><td>23.0      </td><td>23.0      </td></tr>\n",
       "\t<tr><td>2018-01-09</td><td>Tuesday   </td><td>FALSE     </td><td>12.0      </td><td>12.0      </td><td>12.0      </td></tr>\n",
       "\t<tr><td>2018-01-10</td><td>Wednesday </td><td>FALSE     </td><td>20.0      </td><td>20.0      </td><td>20.0      </td></tr>\n",
       "</tbody>\n",
       "</table>\n"
      ],
      "text/latex": [
       "\\begin{tabular}{r|llllll}\n",
       " date & dow & weekend & x1 & x2 & x3\\\\\n",
       "\\hline\n",
       "\t 2017-12-30 & Saturday   & TRUE       &  2.5       &  9.0       &  9.0      \\\\\n",
       "\t 2017-12-31 & Sunday     & TRUE       &  2.0       &   NA       & 10.0      \\\\\n",
       "\t 2018-01-01 & Monday     & FALSE      &  9.0       &   NA       &  1.0      \\\\\n",
       "\t 2018-01-02 & Tuesday    & FALSE      &  6.5       &   NA       &  2.0      \\\\\n",
       "\t 2018-01-03 & Wednesday  & FALSE      &  8.0       &  2.5       &  1.5      \\\\\n",
       "\t 2018-01-04 & Thursday   & FALSE      &  4.0       &  8.5       & 10.5      \\\\\n",
       "\t 2018-01-05 & Friday     & FALSE      &  4.0       &  4.0       &  4.0      \\\\\n",
       "\t 2018-01-06 & Saturday   & TRUE       & 10.5       &  7.5       & 11.0      \\\\\n",
       "\t 2018-01-07 & Sunday     & TRUE       &  3.0       &  3.0       &  3.0      \\\\\n",
       "\t 2018-01-08 & Monday     & FALSE      & 23.0       & 23.0       & 23.0      \\\\\n",
       "\t 2018-01-09 & Tuesday    & FALSE      & 12.0       & 12.0       & 12.0      \\\\\n",
       "\t 2018-01-10 & Wednesday  & FALSE      & 20.0       & 20.0       & 20.0      \\\\\n",
       "\\end{tabular}\n"
      ],
      "text/markdown": [
       "\n",
       "| date | dow | weekend | x1 | x2 | x3 |\n",
       "|---|---|---|---|---|---|\n",
       "| 2017-12-30 | Saturday   | TRUE       |  2.5       |  9.0       |  9.0       |\n",
       "| 2017-12-31 | Sunday     | TRUE       |  2.0       |   NA       | 10.0       |\n",
       "| 2018-01-01 | Monday     | FALSE      |  9.0       |   NA       |  1.0       |\n",
       "| 2018-01-02 | Tuesday    | FALSE      |  6.5       |   NA       |  2.0       |\n",
       "| 2018-01-03 | Wednesday  | FALSE      |  8.0       |  2.5       |  1.5       |\n",
       "| 2018-01-04 | Thursday   | FALSE      |  4.0       |  8.5       | 10.5       |\n",
       "| 2018-01-05 | Friday     | FALSE      |  4.0       |  4.0       |  4.0       |\n",
       "| 2018-01-06 | Saturday   | TRUE       | 10.5       |  7.5       | 11.0       |\n",
       "| 2018-01-07 | Sunday     | TRUE       |  3.0       |  3.0       |  3.0       |\n",
       "| 2018-01-08 | Monday     | FALSE      | 23.0       | 23.0       | 23.0       |\n",
       "| 2018-01-09 | Tuesday    | FALSE      | 12.0       | 12.0       | 12.0       |\n",
       "| 2018-01-10 | Wednesday  | FALSE      | 20.0       | 20.0       | 20.0       |\n",
       "\n"
      ],
      "text/plain": [
       "   date       dow       weekend x1   x2   x3  \n",
       "1  2017-12-30 Saturday  TRUE     2.5  9.0  9.0\n",
       "2  2017-12-31 Sunday    TRUE     2.0   NA 10.0\n",
       "3  2018-01-01 Monday    FALSE    9.0   NA  1.0\n",
       "4  2018-01-02 Tuesday   FALSE    6.5   NA  2.0\n",
       "5  2018-01-03 Wednesday FALSE    8.0  2.5  1.5\n",
       "6  2018-01-04 Thursday  FALSE    4.0  8.5 10.5\n",
       "7  2018-01-05 Friday    FALSE    4.0  4.0  4.0\n",
       "8  2018-01-06 Saturday  TRUE    10.5  7.5 11.0\n",
       "9  2018-01-07 Sunday    TRUE     3.0  3.0  3.0\n",
       "10 2018-01-08 Monday    FALSE   23.0 23.0 23.0\n",
       "11 2018-01-09 Tuesday   FALSE   12.0 12.0 12.0\n",
       "12 2018-01-10 Wednesday FALSE   20.0 20.0 20.0"
      ]
     },
     "metadata": {},
     "output_type": "display_data"
    }
   ],
   "source": [
    "final = cbind(new[, 1:2], weekend=new[, 6],new[, 3:5])\n",
    "final"
   ]
  },
  {
   "cell_type": "markdown",
   "metadata": {},
   "source": [
    "## Problem 2\n",
    "\n",
    "Next, impute the missing values by linear interpolation - use index-based selection to specify the observations needed for your calculations.  Show the revised table."
   ]
  },
  {
   "cell_type": "code",
   "execution_count": 47,
   "metadata": {},
   "outputs": [
    {
     "data": {
      "text/html": [
       "<table>\n",
       "<thead><tr><th scope=col>date</th><th scope=col>dow</th><th scope=col>weekend</th><th scope=col>x1</th><th scope=col>x2</th><th scope=col>x3</th></tr></thead>\n",
       "<tbody>\n",
       "\t<tr><td>2017-12-30</td><td>Saturday  </td><td>TRUE      </td><td> 2.5      </td><td> 9.000    </td><td> 9.0      </td></tr>\n",
       "\t<tr><td>2017-12-31</td><td>Sunday    </td><td>TRUE      </td><td> 2.0      </td><td> 7.375    </td><td>10.0      </td></tr>\n",
       "\t<tr><td>2018-01-01</td><td>Monday    </td><td>FALSE     </td><td> 9.0      </td><td> 5.750    </td><td> 1.0      </td></tr>\n",
       "\t<tr><td>2018-01-02</td><td>Tuesday   </td><td>FALSE     </td><td> 6.5      </td><td> 4.125    </td><td> 2.0      </td></tr>\n",
       "\t<tr><td>2018-01-03</td><td>Wednesday </td><td>FALSE     </td><td> 8.0      </td><td> 2.500    </td><td> 1.5      </td></tr>\n",
       "\t<tr><td>2018-01-04</td><td>Thursday  </td><td>FALSE     </td><td> 4.0      </td><td> 8.500    </td><td>10.5      </td></tr>\n",
       "\t<tr><td>2018-01-05</td><td>Friday    </td><td>FALSE     </td><td> 4.0      </td><td> 4.000    </td><td> 4.0      </td></tr>\n",
       "\t<tr><td>2018-01-06</td><td>Saturday  </td><td>TRUE      </td><td>10.5      </td><td> 7.500    </td><td>11.0      </td></tr>\n",
       "\t<tr><td>2018-01-07</td><td>Sunday    </td><td>TRUE      </td><td> 3.0      </td><td> 3.000    </td><td> 3.0      </td></tr>\n",
       "\t<tr><td>2018-01-08</td><td>Monday    </td><td>FALSE     </td><td>23.0      </td><td>23.000    </td><td>23.0      </td></tr>\n",
       "\t<tr><td>2018-01-09</td><td>Tuesday   </td><td>FALSE     </td><td>12.0      </td><td>12.000    </td><td>12.0      </td></tr>\n",
       "\t<tr><td>2018-01-10</td><td>Wednesday </td><td>FALSE     </td><td>20.0      </td><td>20.000    </td><td>20.0      </td></tr>\n",
       "</tbody>\n",
       "</table>\n"
      ],
      "text/latex": [
       "\\begin{tabular}{r|llllll}\n",
       " date & dow & weekend & x1 & x2 & x3\\\\\n",
       "\\hline\n",
       "\t 2017-12-30 & Saturday   & TRUE       &  2.5       &  9.000     &  9.0      \\\\\n",
       "\t 2017-12-31 & Sunday     & TRUE       &  2.0       &  7.375     & 10.0      \\\\\n",
       "\t 2018-01-01 & Monday     & FALSE      &  9.0       &  5.750     &  1.0      \\\\\n",
       "\t 2018-01-02 & Tuesday    & FALSE      &  6.5       &  4.125     &  2.0      \\\\\n",
       "\t 2018-01-03 & Wednesday  & FALSE      &  8.0       &  2.500     &  1.5      \\\\\n",
       "\t 2018-01-04 & Thursday   & FALSE      &  4.0       &  8.500     & 10.5      \\\\\n",
       "\t 2018-01-05 & Friday     & FALSE      &  4.0       &  4.000     &  4.0      \\\\\n",
       "\t 2018-01-06 & Saturday   & TRUE       & 10.5       &  7.500     & 11.0      \\\\\n",
       "\t 2018-01-07 & Sunday     & TRUE       &  3.0       &  3.000     &  3.0      \\\\\n",
       "\t 2018-01-08 & Monday     & FALSE      & 23.0       & 23.000     & 23.0      \\\\\n",
       "\t 2018-01-09 & Tuesday    & FALSE      & 12.0       & 12.000     & 12.0      \\\\\n",
       "\t 2018-01-10 & Wednesday  & FALSE      & 20.0       & 20.000     & 20.0      \\\\\n",
       "\\end{tabular}\n"
      ],
      "text/markdown": [
       "\n",
       "| date | dow | weekend | x1 | x2 | x3 |\n",
       "|---|---|---|---|---|---|\n",
       "| 2017-12-30 | Saturday   | TRUE       |  2.5       |  9.000     |  9.0       |\n",
       "| 2017-12-31 | Sunday     | TRUE       |  2.0       |  7.375     | 10.0       |\n",
       "| 2018-01-01 | Monday     | FALSE      |  9.0       |  5.750     |  1.0       |\n",
       "| 2018-01-02 | Tuesday    | FALSE      |  6.5       |  4.125     |  2.0       |\n",
       "| 2018-01-03 | Wednesday  | FALSE      |  8.0       |  2.500     |  1.5       |\n",
       "| 2018-01-04 | Thursday   | FALSE      |  4.0       |  8.500     | 10.5       |\n",
       "| 2018-01-05 | Friday     | FALSE      |  4.0       |  4.000     |  4.0       |\n",
       "| 2018-01-06 | Saturday   | TRUE       | 10.5       |  7.500     | 11.0       |\n",
       "| 2018-01-07 | Sunday     | TRUE       |  3.0       |  3.000     |  3.0       |\n",
       "| 2018-01-08 | Monday     | FALSE      | 23.0       | 23.000     | 23.0       |\n",
       "| 2018-01-09 | Tuesday    | FALSE      | 12.0       | 12.000     | 12.0       |\n",
       "| 2018-01-10 | Wednesday  | FALSE      | 20.0       | 20.000     | 20.0       |\n",
       "\n"
      ],
      "text/plain": [
       "   date       dow       weekend x1   x2     x3  \n",
       "1  2017-12-30 Saturday  TRUE     2.5  9.000  9.0\n",
       "2  2017-12-31 Sunday    TRUE     2.0  7.375 10.0\n",
       "3  2018-01-01 Monday    FALSE    9.0  5.750  1.0\n",
       "4  2018-01-02 Tuesday   FALSE    6.5  4.125  2.0\n",
       "5  2018-01-03 Wednesday FALSE    8.0  2.500  1.5\n",
       "6  2018-01-04 Thursday  FALSE    4.0  8.500 10.5\n",
       "7  2018-01-05 Friday    FALSE    4.0  4.000  4.0\n",
       "8  2018-01-06 Saturday  TRUE    10.5  7.500 11.0\n",
       "9  2018-01-07 Sunday    TRUE     3.0  3.000  3.0\n",
       "10 2018-01-08 Monday    FALSE   23.0 23.000 23.0\n",
       "11 2018-01-09 Tuesday   FALSE   12.0 12.000 12.0\n",
       "12 2018-01-10 Wednesday FALSE   20.0 20.000 20.0"
      ]
     },
     "metadata": {},
     "output_type": "display_data"
    }
   ],
   "source": [
    "gap = final$x2[5]-final$x2[1]\n",
    "step_size= gap / 4\n",
    "\n",
    "imputed_value.1= final$x2[1] + step_size\n",
    "imputed_value.2= final$x2[1] + 2*step_size\n",
    "imputed_value.3= final$x2[1] + 3*step_size\n",
    "\n",
    "fixed_gaps_final = final\n",
    "fixed_gaps_final$x2[2]=imputed_value.1\n",
    "fixed_gaps_final$x2[3]=imputed_value.2\n",
    "fixed_gaps_final$x2[4]=imputed_value.3\n",
    "\n",
    "fixed_gaps_final"
   ]
  },
  {
   "cell_type": "markdown",
   "metadata": {},
   "source": [
    "## Problem 3\n",
    "\n",
    "Next, align the 2 datasets by contraction.  Each resulting observation should reflect the sum of revenues for the day.  Show the revised table."
   ]
  },
  {
   "cell_type": "code",
   "execution_count": 53,
   "metadata": {
    "scrolled": true
   },
   "outputs": [
    {
     "data": {
      "text/html": [
       "<table>\n",
       "<thead><tr><th scope=col>date</th><th scope=col>dow</th><th scope=col>weekend</th><th scope=col>x1</th><th scope=col>x2</th><th scope=col>x3</th><th scope=col>step</th></tr></thead>\n",
       "<tbody>\n",
       "\t<tr><td>2017-12-30</td><td>Saturday  </td><td>TRUE      </td><td> 2.5      </td><td> 9.000    </td><td> 9.0      </td><td> 1        </td></tr>\n",
       "\t<tr><td>2017-12-31</td><td>Sunday    </td><td>TRUE      </td><td> 2.0      </td><td> 7.375    </td><td>10.0      </td><td> 2        </td></tr>\n",
       "\t<tr><td>2018-01-01</td><td>Monday    </td><td>FALSE     </td><td> 9.0      </td><td> 5.750    </td><td> 1.0      </td><td> 3        </td></tr>\n",
       "\t<tr><td>2018-01-02</td><td>Tuesday   </td><td>FALSE     </td><td> 6.5      </td><td> 4.125    </td><td> 2.0      </td><td> 4        </td></tr>\n",
       "\t<tr><td>2018-01-03</td><td>Wednesday </td><td>FALSE     </td><td> 8.0      </td><td> 2.500    </td><td> 1.5      </td><td> 5        </td></tr>\n",
       "\t<tr><td>2018-01-04</td><td>Thursday  </td><td>FALSE     </td><td> 4.0      </td><td> 8.500    </td><td>10.5      </td><td> 6        </td></tr>\n",
       "\t<tr><td>2018-01-05</td><td>Friday    </td><td>FALSE     </td><td> 4.0      </td><td> 4.000    </td><td> 4.0      </td><td> 7        </td></tr>\n",
       "\t<tr><td>2018-01-06</td><td>Saturday  </td><td>TRUE      </td><td>10.5      </td><td> 7.500    </td><td>11.0      </td><td> 8        </td></tr>\n",
       "\t<tr><td>2018-01-07</td><td>Sunday    </td><td>TRUE      </td><td> 3.0      </td><td> 3.000    </td><td> 3.0      </td><td> 9        </td></tr>\n",
       "\t<tr><td>2018-01-08</td><td>Monday    </td><td>FALSE     </td><td>23.0      </td><td>23.000    </td><td>23.0      </td><td>10        </td></tr>\n",
       "\t<tr><td>2018-01-09</td><td>Tuesday   </td><td>FALSE     </td><td>12.0      </td><td>12.000    </td><td>12.0      </td><td>11        </td></tr>\n",
       "\t<tr><td>2018-01-10</td><td>Wednesday </td><td>FALSE     </td><td>20.0      </td><td>20.000    </td><td>20.0      </td><td>12        </td></tr>\n",
       "</tbody>\n",
       "</table>\n"
      ],
      "text/latex": [
       "\\begin{tabular}{r|lllllll}\n",
       " date & dow & weekend & x1 & x2 & x3 & step\\\\\n",
       "\\hline\n",
       "\t 2017-12-30 & Saturday   & TRUE       &  2.5       &  9.000     &  9.0       &  1        \\\\\n",
       "\t 2017-12-31 & Sunday     & TRUE       &  2.0       &  7.375     & 10.0       &  2        \\\\\n",
       "\t 2018-01-01 & Monday     & FALSE      &  9.0       &  5.750     &  1.0       &  3        \\\\\n",
       "\t 2018-01-02 & Tuesday    & FALSE      &  6.5       &  4.125     &  2.0       &  4        \\\\\n",
       "\t 2018-01-03 & Wednesday  & FALSE      &  8.0       &  2.500     &  1.5       &  5        \\\\\n",
       "\t 2018-01-04 & Thursday   & FALSE      &  4.0       &  8.500     & 10.5       &  6        \\\\\n",
       "\t 2018-01-05 & Friday     & FALSE      &  4.0       &  4.000     &  4.0       &  7        \\\\\n",
       "\t 2018-01-06 & Saturday   & TRUE       & 10.5       &  7.500     & 11.0       &  8        \\\\\n",
       "\t 2018-01-07 & Sunday     & TRUE       &  3.0       &  3.000     &  3.0       &  9        \\\\\n",
       "\t 2018-01-08 & Monday     & FALSE      & 23.0       & 23.000     & 23.0       & 10        \\\\\n",
       "\t 2018-01-09 & Tuesday    & FALSE      & 12.0       & 12.000     & 12.0       & 11        \\\\\n",
       "\t 2018-01-10 & Wednesday  & FALSE      & 20.0       & 20.000     & 20.0       & 12        \\\\\n",
       "\\end{tabular}\n"
      ],
      "text/markdown": [
       "\n",
       "| date | dow | weekend | x1 | x2 | x3 | step |\n",
       "|---|---|---|---|---|---|---|\n",
       "| 2017-12-30 | Saturday   | TRUE       |  2.5       |  9.000     |  9.0       |  1         |\n",
       "| 2017-12-31 | Sunday     | TRUE       |  2.0       |  7.375     | 10.0       |  2         |\n",
       "| 2018-01-01 | Monday     | FALSE      |  9.0       |  5.750     |  1.0       |  3         |\n",
       "| 2018-01-02 | Tuesday    | FALSE      |  6.5       |  4.125     |  2.0       |  4         |\n",
       "| 2018-01-03 | Wednesday  | FALSE      |  8.0       |  2.500     |  1.5       |  5         |\n",
       "| 2018-01-04 | Thursday   | FALSE      |  4.0       |  8.500     | 10.5       |  6         |\n",
       "| 2018-01-05 | Friday     | FALSE      |  4.0       |  4.000     |  4.0       |  7         |\n",
       "| 2018-01-06 | Saturday   | TRUE       | 10.5       |  7.500     | 11.0       |  8         |\n",
       "| 2018-01-07 | Sunday     | TRUE       |  3.0       |  3.000     |  3.0       |  9         |\n",
       "| 2018-01-08 | Monday     | FALSE      | 23.0       | 23.000     | 23.0       | 10         |\n",
       "| 2018-01-09 | Tuesday    | FALSE      | 12.0       | 12.000     | 12.0       | 11         |\n",
       "| 2018-01-10 | Wednesday  | FALSE      | 20.0       | 20.000     | 20.0       | 12         |\n",
       "\n"
      ],
      "text/plain": [
       "   date       dow       weekend x1   x2     x3   step\n",
       "1  2017-12-30 Saturday  TRUE     2.5  9.000  9.0  1  \n",
       "2  2017-12-31 Sunday    TRUE     2.0  7.375 10.0  2  \n",
       "3  2018-01-01 Monday    FALSE    9.0  5.750  1.0  3  \n",
       "4  2018-01-02 Tuesday   FALSE    6.5  4.125  2.0  4  \n",
       "5  2018-01-03 Wednesday FALSE    8.0  2.500  1.5  5  \n",
       "6  2018-01-04 Thursday  FALSE    4.0  8.500 10.5  6  \n",
       "7  2018-01-05 Friday    FALSE    4.0  4.000  4.0  7  \n",
       "8  2018-01-06 Saturday  TRUE    10.5  7.500 11.0  8  \n",
       "9  2018-01-07 Sunday    TRUE     3.0  3.000  3.0  9  \n",
       "10 2018-01-08 Monday    FALSE   23.0 23.000 23.0 10  \n",
       "11 2018-01-09 Tuesday   FALSE   12.0 12.000 12.0 11  \n",
       "12 2018-01-10 Wednesday FALSE   20.0 20.000 20.0 12  "
      ]
     },
     "metadata": {},
     "output_type": "display_data"
    },
    {
     "data": {
      "text/html": [
       "<table>\n",
       "<thead><tr><th scope=col>date</th><th scope=col>revenue</th><th scope=col>team</th><th scope=col>step</th></tr></thead>\n",
       "<tbody>\n",
       "\t<tr><td>2017-12-30</td><td>1000      </td><td>A         </td><td> 1        </td></tr>\n",
       "\t<tr><td>2017-12-30</td><td>1010      </td><td>B         </td><td> 1        </td></tr>\n",
       "\t<tr><td>2017-12-31</td><td>1200      </td><td>A         </td><td> 2        </td></tr>\n",
       "\t<tr><td>2017-12-31</td><td>1150      </td><td>B         </td><td> 2        </td></tr>\n",
       "\t<tr><td>2018-01-01</td><td> 805      </td><td>A         </td><td> 3        </td></tr>\n",
       "\t<tr><td>2018-01-01</td><td> 806      </td><td>B         </td><td> 3        </td></tr>\n",
       "\t<tr><td>2018-01-02</td><td> 790      </td><td>A         </td><td> 4        </td></tr>\n",
       "\t<tr><td>2018-01-02</td><td> 795      </td><td>B         </td><td> 4        </td></tr>\n",
       "\t<tr><td>2018-01-03</td><td> 800      </td><td>A         </td><td> 5        </td></tr>\n",
       "\t<tr><td>2018-01-03</td><td> 810      </td><td>B         </td><td> 5        </td></tr>\n",
       "\t<tr><td>2018-01-04</td><td> 803      </td><td>A         </td><td> 6        </td></tr>\n",
       "\t<tr><td>2018-01-04</td><td> 801      </td><td>B         </td><td> 6        </td></tr>\n",
       "\t<tr><td>2018-01-05</td><td> 800      </td><td>A         </td><td> 7        </td></tr>\n",
       "\t<tr><td>2018-01-05</td><td> 795      </td><td>B         </td><td> 7        </td></tr>\n",
       "\t<tr><td>2018-01-06</td><td>1000      </td><td>A         </td><td> 8        </td></tr>\n",
       "\t<tr><td>2018-01-06</td><td>1010      </td><td>B         </td><td> 8        </td></tr>\n",
       "\t<tr><td>2018-01-07</td><td>1200      </td><td>A         </td><td> 9        </td></tr>\n",
       "\t<tr><td>2018-01-07</td><td>1150      </td><td>B         </td><td> 9        </td></tr>\n",
       "\t<tr><td>2018-01-08</td><td> 815      </td><td>A         </td><td>10        </td></tr>\n",
       "\t<tr><td>2018-01-08</td><td> 806      </td><td>B         </td><td>10        </td></tr>\n",
       "\t<tr><td>2018-01-09</td><td> 800      </td><td>A         </td><td>11        </td></tr>\n",
       "\t<tr><td>2018-01-09</td><td> 791      </td><td>B         </td><td>11        </td></tr>\n",
       "\t<tr><td>2018-01-10</td><td> 802      </td><td>A         </td><td>12        </td></tr>\n",
       "\t<tr><td>2018-01-10</td><td> 815      </td><td>B         </td><td>12        </td></tr>\n",
       "</tbody>\n",
       "</table>\n"
      ],
      "text/latex": [
       "\\begin{tabular}{r|llll}\n",
       " date & revenue & team & step\\\\\n",
       "\\hline\n",
       "\t 2017-12-30 & 1000       & A          &  1        \\\\\n",
       "\t 2017-12-30 & 1010       & B          &  1        \\\\\n",
       "\t 2017-12-31 & 1200       & A          &  2        \\\\\n",
       "\t 2017-12-31 & 1150       & B          &  2        \\\\\n",
       "\t 2018-01-01 &  805       & A          &  3        \\\\\n",
       "\t 2018-01-01 &  806       & B          &  3        \\\\\n",
       "\t 2018-01-02 &  790       & A          &  4        \\\\\n",
       "\t 2018-01-02 &  795       & B          &  4        \\\\\n",
       "\t 2018-01-03 &  800       & A          &  5        \\\\\n",
       "\t 2018-01-03 &  810       & B          &  5        \\\\\n",
       "\t 2018-01-04 &  803       & A          &  6        \\\\\n",
       "\t 2018-01-04 &  801       & B          &  6        \\\\\n",
       "\t 2018-01-05 &  800       & A          &  7        \\\\\n",
       "\t 2018-01-05 &  795       & B          &  7        \\\\\n",
       "\t 2018-01-06 & 1000       & A          &  8        \\\\\n",
       "\t 2018-01-06 & 1010       & B          &  8        \\\\\n",
       "\t 2018-01-07 & 1200       & A          &  9        \\\\\n",
       "\t 2018-01-07 & 1150       & B          &  9        \\\\\n",
       "\t 2018-01-08 &  815       & A          & 10        \\\\\n",
       "\t 2018-01-08 &  806       & B          & 10        \\\\\n",
       "\t 2018-01-09 &  800       & A          & 11        \\\\\n",
       "\t 2018-01-09 &  791       & B          & 11        \\\\\n",
       "\t 2018-01-10 &  802       & A          & 12        \\\\\n",
       "\t 2018-01-10 &  815       & B          & 12        \\\\\n",
       "\\end{tabular}\n"
      ],
      "text/markdown": [
       "\n",
       "| date | revenue | team | step |\n",
       "|---|---|---|---|\n",
       "| 2017-12-30 | 1000       | A          |  1         |\n",
       "| 2017-12-30 | 1010       | B          |  1         |\n",
       "| 2017-12-31 | 1200       | A          |  2         |\n",
       "| 2017-12-31 | 1150       | B          |  2         |\n",
       "| 2018-01-01 |  805       | A          |  3         |\n",
       "| 2018-01-01 |  806       | B          |  3         |\n",
       "| 2018-01-02 |  790       | A          |  4         |\n",
       "| 2018-01-02 |  795       | B          |  4         |\n",
       "| 2018-01-03 |  800       | A          |  5         |\n",
       "| 2018-01-03 |  810       | B          |  5         |\n",
       "| 2018-01-04 |  803       | A          |  6         |\n",
       "| 2018-01-04 |  801       | B          |  6         |\n",
       "| 2018-01-05 |  800       | A          |  7         |\n",
       "| 2018-01-05 |  795       | B          |  7         |\n",
       "| 2018-01-06 | 1000       | A          |  8         |\n",
       "| 2018-01-06 | 1010       | B          |  8         |\n",
       "| 2018-01-07 | 1200       | A          |  9         |\n",
       "| 2018-01-07 | 1150       | B          |  9         |\n",
       "| 2018-01-08 |  815       | A          | 10         |\n",
       "| 2018-01-08 |  806       | B          | 10         |\n",
       "| 2018-01-09 |  800       | A          | 11         |\n",
       "| 2018-01-09 |  791       | B          | 11         |\n",
       "| 2018-01-10 |  802       | A          | 12         |\n",
       "| 2018-01-10 |  815       | B          | 12         |\n",
       "\n"
      ],
      "text/plain": [
       "   date       revenue team step\n",
       "1  2017-12-30 1000    A     1  \n",
       "2  2017-12-30 1010    B     1  \n",
       "3  2017-12-31 1200    A     2  \n",
       "4  2017-12-31 1150    B     2  \n",
       "5  2018-01-01  805    A     3  \n",
       "6  2018-01-01  806    B     3  \n",
       "7  2018-01-02  790    A     4  \n",
       "8  2018-01-02  795    B     4  \n",
       "9  2018-01-03  800    A     5  \n",
       "10 2018-01-03  810    B     5  \n",
       "11 2018-01-04  803    A     6  \n",
       "12 2018-01-04  801    B     6  \n",
       "13 2018-01-05  800    A     7  \n",
       "14 2018-01-05  795    B     7  \n",
       "15 2018-01-06 1000    A     8  \n",
       "16 2018-01-06 1010    B     8  \n",
       "17 2018-01-07 1200    A     9  \n",
       "18 2018-01-07 1150    B     9  \n",
       "19 2018-01-08  815    A    10  \n",
       "20 2018-01-08  806    B    10  \n",
       "21 2018-01-09  800    A    11  \n",
       "22 2018-01-09  791    B    11  \n",
       "23 2018-01-10  802    A    12  \n",
       "24 2018-01-10  815    B    12  "
      ]
     },
     "metadata": {},
     "output_type": "display_data"
    },
    {
     "data": {
      "text/html": [
       "<table>\n",
       "<thead><tr><th scope=col>step</th><th scope=col>revenue</th></tr></thead>\n",
       "<tbody>\n",
       "\t<tr><td> 1  </td><td>2010</td></tr>\n",
       "\t<tr><td> 2  </td><td>2350</td></tr>\n",
       "\t<tr><td> 3  </td><td>1611</td></tr>\n",
       "\t<tr><td> 4  </td><td>1585</td></tr>\n",
       "\t<tr><td> 5  </td><td>1610</td></tr>\n",
       "\t<tr><td> 6  </td><td>1604</td></tr>\n",
       "\t<tr><td> 7  </td><td>1595</td></tr>\n",
       "\t<tr><td> 8  </td><td>2010</td></tr>\n",
       "\t<tr><td> 9  </td><td>2350</td></tr>\n",
       "\t<tr><td>10  </td><td>1621</td></tr>\n",
       "\t<tr><td>11  </td><td>1591</td></tr>\n",
       "\t<tr><td>12  </td><td>1617</td></tr>\n",
       "</tbody>\n",
       "</table>\n"
      ],
      "text/latex": [
       "\\begin{tabular}{r|ll}\n",
       " step & revenue\\\\\n",
       "\\hline\n",
       "\t  1   & 2010\\\\\n",
       "\t  2   & 2350\\\\\n",
       "\t  3   & 1611\\\\\n",
       "\t  4   & 1585\\\\\n",
       "\t  5   & 1610\\\\\n",
       "\t  6   & 1604\\\\\n",
       "\t  7   & 1595\\\\\n",
       "\t  8   & 2010\\\\\n",
       "\t  9   & 2350\\\\\n",
       "\t 10   & 1621\\\\\n",
       "\t 11   & 1591\\\\\n",
       "\t 12   & 1617\\\\\n",
       "\\end{tabular}\n"
      ],
      "text/markdown": [
       "\n",
       "| step | revenue |\n",
       "|---|---|\n",
       "|  1   | 2010 |\n",
       "|  2   | 2350 |\n",
       "|  3   | 1611 |\n",
       "|  4   | 1585 |\n",
       "|  5   | 1610 |\n",
       "|  6   | 1604 |\n",
       "|  7   | 1595 |\n",
       "|  8   | 2010 |\n",
       "|  9   | 2350 |\n",
       "| 10   | 1621 |\n",
       "| 11   | 1591 |\n",
       "| 12   | 1617 |\n",
       "\n"
      ],
      "text/plain": [
       "   step revenue\n",
       "1   1   2010   \n",
       "2   2   2350   \n",
       "3   3   1611   \n",
       "4   4   1585   \n",
       "5   5   1610   \n",
       "6   6   1604   \n",
       "7   7   1595   \n",
       "8   8   2010   \n",
       "9   9   2350   \n",
       "10 10   1621   \n",
       "11 11   1591   \n",
       "12 12   1617   "
      ]
     },
     "metadata": {},
     "output_type": "display_data"
    }
   ],
   "source": [
    "fixed_gaps_final$step = 1:nrow(fixed_gaps_final)\n",
    "fixed_gaps_final\n",
    "data.r$step = sort(rep(1:nrow(fixed_gaps_final), 2))\n",
    "data.r\n",
    "data.r.aggregated = aggregate(revenue ~ step, data.r, sum)\n",
    "data.r.aggregated"
   ]
  },
  {
   "cell_type": "code",
   "execution_count": 60,
   "metadata": {},
   "outputs": [
    {
     "data": {
      "text/html": [
       "<table>\n",
       "<thead><tr><th scope=col>step</th><th scope=col>date</th><th scope=col>dow</th><th scope=col>weekend</th><th scope=col>x1</th><th scope=col>x2</th><th scope=col>x3</th><th scope=col>revenue</th></tr></thead>\n",
       "<tbody>\n",
       "\t<tr><td> 1        </td><td>2017-12-30</td><td>Saturday  </td><td>TRUE      </td><td> 2.5      </td><td> 9.000    </td><td> 9.0      </td><td>2010      </td></tr>\n",
       "\t<tr><td> 2        </td><td>2017-12-31</td><td>Sunday    </td><td>TRUE      </td><td> 2.0      </td><td> 7.375    </td><td>10.0      </td><td>2350      </td></tr>\n",
       "\t<tr><td> 3        </td><td>2018-01-01</td><td>Monday    </td><td>FALSE     </td><td> 9.0      </td><td> 5.750    </td><td> 1.0      </td><td>1611      </td></tr>\n",
       "\t<tr><td> 4        </td><td>2018-01-02</td><td>Tuesday   </td><td>FALSE     </td><td> 6.5      </td><td> 4.125    </td><td> 2.0      </td><td>1585      </td></tr>\n",
       "\t<tr><td> 5        </td><td>2018-01-03</td><td>Wednesday </td><td>FALSE     </td><td> 8.0      </td><td> 2.500    </td><td> 1.5      </td><td>1610      </td></tr>\n",
       "\t<tr><td> 6        </td><td>2018-01-04</td><td>Thursday  </td><td>FALSE     </td><td> 4.0      </td><td> 8.500    </td><td>10.5      </td><td>1604      </td></tr>\n",
       "\t<tr><td> 7        </td><td>2018-01-05</td><td>Friday    </td><td>FALSE     </td><td> 4.0      </td><td> 4.000    </td><td> 4.0      </td><td>1595      </td></tr>\n",
       "\t<tr><td> 8        </td><td>2018-01-06</td><td>Saturday  </td><td>TRUE      </td><td>10.5      </td><td> 7.500    </td><td>11.0      </td><td>2010      </td></tr>\n",
       "\t<tr><td> 9        </td><td>2018-01-07</td><td>Sunday    </td><td>TRUE      </td><td> 3.0      </td><td> 3.000    </td><td> 3.0      </td><td>2350      </td></tr>\n",
       "\t<tr><td>10        </td><td>2018-01-08</td><td>Monday    </td><td>FALSE     </td><td>23.0      </td><td>23.000    </td><td>23.0      </td><td>1621      </td></tr>\n",
       "\t<tr><td>11        </td><td>2018-01-09</td><td>Tuesday   </td><td>FALSE     </td><td>12.0      </td><td>12.000    </td><td>12.0      </td><td>1591      </td></tr>\n",
       "\t<tr><td>12        </td><td>2018-01-10</td><td>Wednesday </td><td>FALSE     </td><td>20.0      </td><td>20.000    </td><td>20.0      </td><td>1617      </td></tr>\n",
       "</tbody>\n",
       "</table>\n"
      ],
      "text/latex": [
       "\\begin{tabular}{r|llllllll}\n",
       " step & date & dow & weekend & x1 & x2 & x3 & revenue\\\\\n",
       "\\hline\n",
       "\t  1         & 2017-12-30 & Saturday   & TRUE       &  2.5       &  9.000     &  9.0       & 2010      \\\\\n",
       "\t  2         & 2017-12-31 & Sunday     & TRUE       &  2.0       &  7.375     & 10.0       & 2350      \\\\\n",
       "\t  3         & 2018-01-01 & Monday     & FALSE      &  9.0       &  5.750     &  1.0       & 1611      \\\\\n",
       "\t  4         & 2018-01-02 & Tuesday    & FALSE      &  6.5       &  4.125     &  2.0       & 1585      \\\\\n",
       "\t  5         & 2018-01-03 & Wednesday  & FALSE      &  8.0       &  2.500     &  1.5       & 1610      \\\\\n",
       "\t  6         & 2018-01-04 & Thursday   & FALSE      &  4.0       &  8.500     & 10.5       & 1604      \\\\\n",
       "\t  7         & 2018-01-05 & Friday     & FALSE      &  4.0       &  4.000     &  4.0       & 1595      \\\\\n",
       "\t  8         & 2018-01-06 & Saturday   & TRUE       & 10.5       &  7.500     & 11.0       & 2010      \\\\\n",
       "\t  9         & 2018-01-07 & Sunday     & TRUE       &  3.0       &  3.000     &  3.0       & 2350      \\\\\n",
       "\t 10         & 2018-01-08 & Monday     & FALSE      & 23.0       & 23.000     & 23.0       & 1621      \\\\\n",
       "\t 11         & 2018-01-09 & Tuesday    & FALSE      & 12.0       & 12.000     & 12.0       & 1591      \\\\\n",
       "\t 12         & 2018-01-10 & Wednesday  & FALSE      & 20.0       & 20.000     & 20.0       & 1617      \\\\\n",
       "\\end{tabular}\n"
      ],
      "text/markdown": [
       "\n",
       "| step | date | dow | weekend | x1 | x2 | x3 | revenue |\n",
       "|---|---|---|---|---|---|---|---|\n",
       "|  1         | 2017-12-30 | Saturday   | TRUE       |  2.5       |  9.000     |  9.0       | 2010       |\n",
       "|  2         | 2017-12-31 | Sunday     | TRUE       |  2.0       |  7.375     | 10.0       | 2350       |\n",
       "|  3         | 2018-01-01 | Monday     | FALSE      |  9.0       |  5.750     |  1.0       | 1611       |\n",
       "|  4         | 2018-01-02 | Tuesday    | FALSE      |  6.5       |  4.125     |  2.0       | 1585       |\n",
       "|  5         | 2018-01-03 | Wednesday  | FALSE      |  8.0       |  2.500     |  1.5       | 1610       |\n",
       "|  6         | 2018-01-04 | Thursday   | FALSE      |  4.0       |  8.500     | 10.5       | 1604       |\n",
       "|  7         | 2018-01-05 | Friday     | FALSE      |  4.0       |  4.000     |  4.0       | 1595       |\n",
       "|  8         | 2018-01-06 | Saturday   | TRUE       | 10.5       |  7.500     | 11.0       | 2010       |\n",
       "|  9         | 2018-01-07 | Sunday     | TRUE       |  3.0       |  3.000     |  3.0       | 2350       |\n",
       "| 10         | 2018-01-08 | Monday     | FALSE      | 23.0       | 23.000     | 23.0       | 1621       |\n",
       "| 11         | 2018-01-09 | Tuesday    | FALSE      | 12.0       | 12.000     | 12.0       | 1591       |\n",
       "| 12         | 2018-01-10 | Wednesday  | FALSE      | 20.0       | 20.000     | 20.0       | 1617       |\n",
       "\n"
      ],
      "text/plain": [
       "   step date       dow       weekend x1   x2     x3   revenue\n",
       "1   1   2017-12-30 Saturday  TRUE     2.5  9.000  9.0 2010   \n",
       "2   2   2017-12-31 Sunday    TRUE     2.0  7.375 10.0 2350   \n",
       "3   3   2018-01-01 Monday    FALSE    9.0  5.750  1.0 1611   \n",
       "4   4   2018-01-02 Tuesday   FALSE    6.5  4.125  2.0 1585   \n",
       "5   5   2018-01-03 Wednesday FALSE    8.0  2.500  1.5 1610   \n",
       "6   6   2018-01-04 Thursday  FALSE    4.0  8.500 10.5 1604   \n",
       "7   7   2018-01-05 Friday    FALSE    4.0  4.000  4.0 1595   \n",
       "8   8   2018-01-06 Saturday  TRUE    10.5  7.500 11.0 2010   \n",
       "9   9   2018-01-07 Sunday    TRUE     3.0  3.000  3.0 2350   \n",
       "10 10   2018-01-08 Monday    FALSE   23.0 23.000 23.0 1621   \n",
       "11 11   2018-01-09 Tuesday   FALSE   12.0 12.000 12.0 1591   \n",
       "12 12   2018-01-10 Wednesday FALSE   20.0 20.000 20.0 1617   "
      ]
     },
     "metadata": {},
     "output_type": "display_data"
    }
   ],
   "source": [
    "final.yep = merge(fixed_gaps_final, data.r.aggregated, by='step')[,-1]\n",
    "final.yop = cbind(step=1:nrow(final.yep), final.yep)\n",
    "final.yop"
   ]
  },
  {
   "cell_type": "markdown",
   "metadata": {},
   "source": [
    "## Problem 4\n",
    "\n",
    "Next, balance the data by duplicating weekend observations.  Remove the `step` variable, if present.  Show the number of weekday observations and the number of weekend observations.  Show the resulting table."
   ]
  },
  {
   "cell_type": "code",
   "execution_count": 62,
   "metadata": {
    "scrolled": true
   },
   "outputs": [
    {
     "data": {
      "text/html": [
       "<table>\n",
       "<thead><tr><th scope=col>step</th><th scope=col>date</th><th scope=col>dow</th><th scope=col>weekend</th><th scope=col>x1</th><th scope=col>x2</th><th scope=col>x3</th><th scope=col>revenue</th></tr></thead>\n",
       "<tbody>\n",
       "\t<tr><td> 1        </td><td>2017-12-30</td><td>Saturday  </td><td>TRUE      </td><td> 2.5      </td><td> 9.000    </td><td> 9.0      </td><td>2010      </td></tr>\n",
       "\t<tr><td> 2        </td><td>2017-12-31</td><td>Sunday    </td><td>TRUE      </td><td> 2.0      </td><td> 7.375    </td><td>10.0      </td><td>2350      </td></tr>\n",
       "\t<tr><td> 3        </td><td>2018-01-01</td><td>Monday    </td><td>FALSE     </td><td> 9.0      </td><td> 5.750    </td><td> 1.0      </td><td>1611      </td></tr>\n",
       "\t<tr><td> 4        </td><td>2018-01-02</td><td>Tuesday   </td><td>FALSE     </td><td> 6.5      </td><td> 4.125    </td><td> 2.0      </td><td>1585      </td></tr>\n",
       "\t<tr><td> 5        </td><td>2018-01-03</td><td>Wednesday </td><td>FALSE     </td><td> 8.0      </td><td> 2.500    </td><td> 1.5      </td><td>1610      </td></tr>\n",
       "\t<tr><td> 6        </td><td>2018-01-04</td><td>Thursday  </td><td>FALSE     </td><td> 4.0      </td><td> 8.500    </td><td>10.5      </td><td>1604      </td></tr>\n",
       "\t<tr><td> 7        </td><td>2018-01-05</td><td>Friday    </td><td>FALSE     </td><td> 4.0      </td><td> 4.000    </td><td> 4.0      </td><td>1595      </td></tr>\n",
       "\t<tr><td> 8        </td><td>2018-01-06</td><td>Saturday  </td><td>TRUE      </td><td>10.5      </td><td> 7.500    </td><td>11.0      </td><td>2010      </td></tr>\n",
       "\t<tr><td> 9        </td><td>2018-01-07</td><td>Sunday    </td><td>TRUE      </td><td> 3.0      </td><td> 3.000    </td><td> 3.0      </td><td>2350      </td></tr>\n",
       "\t<tr><td>10        </td><td>2018-01-08</td><td>Monday    </td><td>FALSE     </td><td>23.0      </td><td>23.000    </td><td>23.0      </td><td>1621      </td></tr>\n",
       "\t<tr><td>11        </td><td>2018-01-09</td><td>Tuesday   </td><td>FALSE     </td><td>12.0      </td><td>12.000    </td><td>12.0      </td><td>1591      </td></tr>\n",
       "\t<tr><td>12        </td><td>2018-01-10</td><td>Wednesday </td><td>FALSE     </td><td>20.0      </td><td>20.000    </td><td>20.0      </td><td>1617      </td></tr>\n",
       "</tbody>\n",
       "</table>\n"
      ],
      "text/latex": [
       "\\begin{tabular}{r|llllllll}\n",
       " step & date & dow & weekend & x1 & x2 & x3 & revenue\\\\\n",
       "\\hline\n",
       "\t  1         & 2017-12-30 & Saturday   & TRUE       &  2.5       &  9.000     &  9.0       & 2010      \\\\\n",
       "\t  2         & 2017-12-31 & Sunday     & TRUE       &  2.0       &  7.375     & 10.0       & 2350      \\\\\n",
       "\t  3         & 2018-01-01 & Monday     & FALSE      &  9.0       &  5.750     &  1.0       & 1611      \\\\\n",
       "\t  4         & 2018-01-02 & Tuesday    & FALSE      &  6.5       &  4.125     &  2.0       & 1585      \\\\\n",
       "\t  5         & 2018-01-03 & Wednesday  & FALSE      &  8.0       &  2.500     &  1.5       & 1610      \\\\\n",
       "\t  6         & 2018-01-04 & Thursday   & FALSE      &  4.0       &  8.500     & 10.5       & 1604      \\\\\n",
       "\t  7         & 2018-01-05 & Friday     & FALSE      &  4.0       &  4.000     &  4.0       & 1595      \\\\\n",
       "\t  8         & 2018-01-06 & Saturday   & TRUE       & 10.5       &  7.500     & 11.0       & 2010      \\\\\n",
       "\t  9         & 2018-01-07 & Sunday     & TRUE       &  3.0       &  3.000     &  3.0       & 2350      \\\\\n",
       "\t 10         & 2018-01-08 & Monday     & FALSE      & 23.0       & 23.000     & 23.0       & 1621      \\\\\n",
       "\t 11         & 2018-01-09 & Tuesday    & FALSE      & 12.0       & 12.000     & 12.0       & 1591      \\\\\n",
       "\t 12         & 2018-01-10 & Wednesday  & FALSE      & 20.0       & 20.000     & 20.0       & 1617      \\\\\n",
       "\\end{tabular}\n"
      ],
      "text/markdown": [
       "\n",
       "| step | date | dow | weekend | x1 | x2 | x3 | revenue |\n",
       "|---|---|---|---|---|---|---|---|\n",
       "|  1         | 2017-12-30 | Saturday   | TRUE       |  2.5       |  9.000     |  9.0       | 2010       |\n",
       "|  2         | 2017-12-31 | Sunday     | TRUE       |  2.0       |  7.375     | 10.0       | 2350       |\n",
       "|  3         | 2018-01-01 | Monday     | FALSE      |  9.0       |  5.750     |  1.0       | 1611       |\n",
       "|  4         | 2018-01-02 | Tuesday    | FALSE      |  6.5       |  4.125     |  2.0       | 1585       |\n",
       "|  5         | 2018-01-03 | Wednesday  | FALSE      |  8.0       |  2.500     |  1.5       | 1610       |\n",
       "|  6         | 2018-01-04 | Thursday   | FALSE      |  4.0       |  8.500     | 10.5       | 1604       |\n",
       "|  7         | 2018-01-05 | Friday     | FALSE      |  4.0       |  4.000     |  4.0       | 1595       |\n",
       "|  8         | 2018-01-06 | Saturday   | TRUE       | 10.5       |  7.500     | 11.0       | 2010       |\n",
       "|  9         | 2018-01-07 | Sunday     | TRUE       |  3.0       |  3.000     |  3.0       | 2350       |\n",
       "| 10         | 2018-01-08 | Monday     | FALSE      | 23.0       | 23.000     | 23.0       | 1621       |\n",
       "| 11         | 2018-01-09 | Tuesday    | FALSE      | 12.0       | 12.000     | 12.0       | 1591       |\n",
       "| 12         | 2018-01-10 | Wednesday  | FALSE      | 20.0       | 20.000     | 20.0       | 1617       |\n",
       "\n"
      ],
      "text/plain": [
       "   step date       dow       weekend x1   x2     x3   revenue\n",
       "1   1   2017-12-30 Saturday  TRUE     2.5  9.000  9.0 2010   \n",
       "2   2   2017-12-31 Sunday    TRUE     2.0  7.375 10.0 2350   \n",
       "3   3   2018-01-01 Monday    FALSE    9.0  5.750  1.0 1611   \n",
       "4   4   2018-01-02 Tuesday   FALSE    6.5  4.125  2.0 1585   \n",
       "5   5   2018-01-03 Wednesday FALSE    8.0  2.500  1.5 1610   \n",
       "6   6   2018-01-04 Thursday  FALSE    4.0  8.500 10.5 1604   \n",
       "7   7   2018-01-05 Friday    FALSE    4.0  4.000  4.0 1595   \n",
       "8   8   2018-01-06 Saturday  TRUE    10.5  7.500 11.0 2010   \n",
       "9   9   2018-01-07 Sunday    TRUE     3.0  3.000  3.0 2350   \n",
       "10 10   2018-01-08 Monday    FALSE   23.0 23.000 23.0 1621   \n",
       "11 11   2018-01-09 Tuesday   FALSE   12.0 12.000 12.0 1591   \n",
       "12 12   2018-01-10 Wednesday FALSE   20.0 20.000 20.0 1617   "
      ]
     },
     "metadata": {},
     "output_type": "display_data"
    },
    {
     "data": {
      "text/html": [
       "<ol class=list-inline>\n",
       "\t<li>1</li>\n",
       "\t<li>2</li>\n",
       "\t<li>8</li>\n",
       "\t<li>9</li>\n",
       "</ol>\n"
      ],
      "text/latex": [
       "\\begin{enumerate*}\n",
       "\\item 1\n",
       "\\item 2\n",
       "\\item 8\n",
       "\\item 9\n",
       "\\end{enumerate*}\n"
      ],
      "text/markdown": [
       "1. 1\n",
       "2. 2\n",
       "3. 8\n",
       "4. 9\n",
       "\n",
       "\n"
      ],
      "text/plain": [
       "[1] 1 2 8 9"
      ]
     },
     "metadata": {},
     "output_type": "display_data"
    },
    {
     "data": {
      "text/html": [
       "<ol class=list-inline>\n",
       "\t<li>1</li>\n",
       "\t<li>2</li>\n",
       "\t<li>8</li>\n",
       "\t<li>9</li>\n",
       "\t<li>1</li>\n",
       "\t<li>2</li>\n",
       "\t<li>8</li>\n",
       "\t<li>9</li>\n",
       "</ol>\n"
      ],
      "text/latex": [
       "\\begin{enumerate*}\n",
       "\\item 1\n",
       "\\item 2\n",
       "\\item 8\n",
       "\\item 9\n",
       "\\item 1\n",
       "\\item 2\n",
       "\\item 8\n",
       "\\item 9\n",
       "\\end{enumerate*}\n"
      ],
      "text/markdown": [
       "1. 1\n",
       "2. 2\n",
       "3. 8\n",
       "4. 9\n",
       "5. 1\n",
       "6. 2\n",
       "7. 8\n",
       "8. 9\n",
       "\n",
       "\n"
      ],
      "text/plain": [
       "[1] 1 2 8 9 1 2 8 9"
      ]
     },
     "metadata": {},
     "output_type": "display_data"
    },
    {
     "data": {
      "text/html": [
       "<ol class=list-inline>\n",
       "\t<li>1</li>\n",
       "\t<li>2</li>\n",
       "\t<li>3</li>\n",
       "\t<li>4</li>\n",
       "\t<li>5</li>\n",
       "\t<li>6</li>\n",
       "\t<li>7</li>\n",
       "\t<li>8</li>\n",
       "\t<li>9</li>\n",
       "\t<li>10</li>\n",
       "\t<li>11</li>\n",
       "\t<li>12</li>\n",
       "\t<li>1</li>\n",
       "\t<li>2</li>\n",
       "\t<li>8</li>\n",
       "\t<li>9</li>\n",
       "\t<li>1</li>\n",
       "\t<li>2</li>\n",
       "\t<li>8</li>\n",
       "\t<li>9</li>\n",
       "</ol>\n"
      ],
      "text/latex": [
       "\\begin{enumerate*}\n",
       "\\item 1\n",
       "\\item 2\n",
       "\\item 3\n",
       "\\item 4\n",
       "\\item 5\n",
       "\\item 6\n",
       "\\item 7\n",
       "\\item 8\n",
       "\\item 9\n",
       "\\item 10\n",
       "\\item 11\n",
       "\\item 12\n",
       "\\item 1\n",
       "\\item 2\n",
       "\\item 8\n",
       "\\item 9\n",
       "\\item 1\n",
       "\\item 2\n",
       "\\item 8\n",
       "\\item 9\n",
       "\\end{enumerate*}\n"
      ],
      "text/markdown": [
       "1. 1\n",
       "2. 2\n",
       "3. 3\n",
       "4. 4\n",
       "5. 5\n",
       "6. 6\n",
       "7. 7\n",
       "8. 8\n",
       "9. 9\n",
       "10. 10\n",
       "11. 11\n",
       "12. 12\n",
       "13. 1\n",
       "14. 2\n",
       "15. 8\n",
       "16. 9\n",
       "17. 1\n",
       "18. 2\n",
       "19. 8\n",
       "20. 9\n",
       "\n",
       "\n"
      ],
      "text/plain": [
       " [1]  1  2  3  4  5  6  7  8  9 10 11 12  1  2  8  9  1  2  8  9"
      ]
     },
     "metadata": {},
     "output_type": "display_data"
    }
   ],
   "source": [
    "final.yop\n",
    "which(final.yop$weekend==\"TRUE\")\n",
    "rep(which(final.yop$weekend==\"TRUE\"), 1)\n",
    "c(1:nrow(final.yop), rep(which(final.yop$weekend==\"TRUE\"), 1))"
   ]
  },
  {
   "cell_type": "code",
   "execution_count": 66,
   "metadata": {},
   "outputs": [
    {
     "data": {
      "text/html": [
       "<table>\n",
       "<thead><tr><th scope=col>number_of_weekday_observations</th><th scope=col>number_of_weekend_observations</th></tr></thead>\n",
       "<tbody>\n",
       "\t<tr><td>8</td><td>8</td></tr>\n",
       "</tbody>\n",
       "</table>\n"
      ],
      "text/latex": [
       "\\begin{tabular}{r|ll}\n",
       " number\\_of\\_weekday\\_observations & number\\_of\\_weekend\\_observations\\\\\n",
       "\\hline\n",
       "\t 8 & 8\\\\\n",
       "\\end{tabular}\n"
      ],
      "text/markdown": [
       "\n",
       "| number_of_weekday_observations | number_of_weekend_observations |\n",
       "|---|---|\n",
       "| 8 | 8 |\n",
       "\n"
      ],
      "text/plain": [
       "  number_of_weekday_observations number_of_weekend_observations\n",
       "1 8                              8                             "
      ]
     },
     "metadata": {},
     "output_type": "display_data"
    },
    {
     "data": {
      "text/html": [
       "<table>\n",
       "<thead><tr><th></th><th scope=col>step</th><th scope=col>date</th><th scope=col>dow</th><th scope=col>weekend</th><th scope=col>x1</th><th scope=col>x2</th><th scope=col>x3</th><th scope=col>revenue</th></tr></thead>\n",
       "<tbody>\n",
       "\t<tr><th scope=row>1</th><td> 1        </td><td>2017-12-30</td><td>Saturday  </td><td>TRUE      </td><td> 2.5      </td><td> 9.000    </td><td> 9.0      </td><td>2010      </td></tr>\n",
       "\t<tr><th scope=row>2</th><td> 2        </td><td>2017-12-31</td><td>Sunday    </td><td>TRUE      </td><td> 2.0      </td><td> 7.375    </td><td>10.0      </td><td>2350      </td></tr>\n",
       "\t<tr><th scope=row>3</th><td> 3        </td><td>2018-01-01</td><td>Monday    </td><td>FALSE     </td><td> 9.0      </td><td> 5.750    </td><td> 1.0      </td><td>1611      </td></tr>\n",
       "\t<tr><th scope=row>4</th><td> 4        </td><td>2018-01-02</td><td>Tuesday   </td><td>FALSE     </td><td> 6.5      </td><td> 4.125    </td><td> 2.0      </td><td>1585      </td></tr>\n",
       "\t<tr><th scope=row>5</th><td> 5        </td><td>2018-01-03</td><td>Wednesday </td><td>FALSE     </td><td> 8.0      </td><td> 2.500    </td><td> 1.5      </td><td>1610      </td></tr>\n",
       "\t<tr><th scope=row>6</th><td> 6        </td><td>2018-01-04</td><td>Thursday  </td><td>FALSE     </td><td> 4.0      </td><td> 8.500    </td><td>10.5      </td><td>1604      </td></tr>\n",
       "\t<tr><th scope=row>7</th><td> 7        </td><td>2018-01-05</td><td>Friday    </td><td>FALSE     </td><td> 4.0      </td><td> 4.000    </td><td> 4.0      </td><td>1595      </td></tr>\n",
       "\t<tr><th scope=row>8</th><td> 8        </td><td>2018-01-06</td><td>Saturday  </td><td>TRUE      </td><td>10.5      </td><td> 7.500    </td><td>11.0      </td><td>2010      </td></tr>\n",
       "\t<tr><th scope=row>9</th><td> 9        </td><td>2018-01-07</td><td>Sunday    </td><td>TRUE      </td><td> 3.0      </td><td> 3.000    </td><td> 3.0      </td><td>2350      </td></tr>\n",
       "\t<tr><th scope=row>10</th><td>10        </td><td>2018-01-08</td><td>Monday    </td><td>FALSE     </td><td>23.0      </td><td>23.000    </td><td>23.0      </td><td>1621      </td></tr>\n",
       "\t<tr><th scope=row>11</th><td>11        </td><td>2018-01-09</td><td>Tuesday   </td><td>FALSE     </td><td>12.0      </td><td>12.000    </td><td>12.0      </td><td>1591      </td></tr>\n",
       "\t<tr><th scope=row>12</th><td>12        </td><td>2018-01-10</td><td>Wednesday </td><td>FALSE     </td><td>20.0      </td><td>20.000    </td><td>20.0      </td><td>1617      </td></tr>\n",
       "\t<tr><th scope=row>1.1</th><td> 1        </td><td>2017-12-30</td><td>Saturday  </td><td>TRUE      </td><td> 2.5      </td><td> 9.000    </td><td> 9.0      </td><td>2010      </td></tr>\n",
       "\t<tr><th scope=row>2.1</th><td> 2        </td><td>2017-12-31</td><td>Sunday    </td><td>TRUE      </td><td> 2.0      </td><td> 7.375    </td><td>10.0      </td><td>2350      </td></tr>\n",
       "\t<tr><th scope=row>8.1</th><td> 8        </td><td>2018-01-06</td><td>Saturday  </td><td>TRUE      </td><td>10.5      </td><td> 7.500    </td><td>11.0      </td><td>2010      </td></tr>\n",
       "\t<tr><th scope=row>9.1</th><td> 9        </td><td>2018-01-07</td><td>Sunday    </td><td>TRUE      </td><td> 3.0      </td><td> 3.000    </td><td> 3.0      </td><td>2350      </td></tr>\n",
       "</tbody>\n",
       "</table>\n"
      ],
      "text/latex": [
       "\\begin{tabular}{r|llllllll}\n",
       "  & step & date & dow & weekend & x1 & x2 & x3 & revenue\\\\\n",
       "\\hline\n",
       "\t1 &  1         & 2017-12-30 & Saturday   & TRUE       &  2.5       &  9.000     &  9.0       & 2010      \\\\\n",
       "\t2 &  2         & 2017-12-31 & Sunday     & TRUE       &  2.0       &  7.375     & 10.0       & 2350      \\\\\n",
       "\t3 &  3         & 2018-01-01 & Monday     & FALSE      &  9.0       &  5.750     &  1.0       & 1611      \\\\\n",
       "\t4 &  4         & 2018-01-02 & Tuesday    & FALSE      &  6.5       &  4.125     &  2.0       & 1585      \\\\\n",
       "\t5 &  5         & 2018-01-03 & Wednesday  & FALSE      &  8.0       &  2.500     &  1.5       & 1610      \\\\\n",
       "\t6 &  6         & 2018-01-04 & Thursday   & FALSE      &  4.0       &  8.500     & 10.5       & 1604      \\\\\n",
       "\t7 &  7         & 2018-01-05 & Friday     & FALSE      &  4.0       &  4.000     &  4.0       & 1595      \\\\\n",
       "\t8 &  8         & 2018-01-06 & Saturday   & TRUE       & 10.5       &  7.500     & 11.0       & 2010      \\\\\n",
       "\t9 &  9         & 2018-01-07 & Sunday     & TRUE       &  3.0       &  3.000     &  3.0       & 2350      \\\\\n",
       "\t10 & 10         & 2018-01-08 & Monday     & FALSE      & 23.0       & 23.000     & 23.0       & 1621      \\\\\n",
       "\t11 & 11         & 2018-01-09 & Tuesday    & FALSE      & 12.0       & 12.000     & 12.0       & 1591      \\\\\n",
       "\t12 & 12         & 2018-01-10 & Wednesday  & FALSE      & 20.0       & 20.000     & 20.0       & 1617      \\\\\n",
       "\t1.1 &  1         & 2017-12-30 & Saturday   & TRUE       &  2.5       &  9.000     &  9.0       & 2010      \\\\\n",
       "\t2.1 &  2         & 2017-12-31 & Sunday     & TRUE       &  2.0       &  7.375     & 10.0       & 2350      \\\\\n",
       "\t8.1 &  8         & 2018-01-06 & Saturday   & TRUE       & 10.5       &  7.500     & 11.0       & 2010      \\\\\n",
       "\t9.1 &  9         & 2018-01-07 & Sunday     & TRUE       &  3.0       &  3.000     &  3.0       & 2350      \\\\\n",
       "\\end{tabular}\n"
      ],
      "text/markdown": [
       "\n",
       "| <!--/--> | step | date | dow | weekend | x1 | x2 | x3 | revenue |\n",
       "|---|---|---|---|---|---|---|---|---|\n",
       "| 1 |  1         | 2017-12-30 | Saturday   | TRUE       |  2.5       |  9.000     |  9.0       | 2010       |\n",
       "| 2 |  2         | 2017-12-31 | Sunday     | TRUE       |  2.0       |  7.375     | 10.0       | 2350       |\n",
       "| 3 |  3         | 2018-01-01 | Monday     | FALSE      |  9.0       |  5.750     |  1.0       | 1611       |\n",
       "| 4 |  4         | 2018-01-02 | Tuesday    | FALSE      |  6.5       |  4.125     |  2.0       | 1585       |\n",
       "| 5 |  5         | 2018-01-03 | Wednesday  | FALSE      |  8.0       |  2.500     |  1.5       | 1610       |\n",
       "| 6 |  6         | 2018-01-04 | Thursday   | FALSE      |  4.0       |  8.500     | 10.5       | 1604       |\n",
       "| 7 |  7         | 2018-01-05 | Friday     | FALSE      |  4.0       |  4.000     |  4.0       | 1595       |\n",
       "| 8 |  8         | 2018-01-06 | Saturday   | TRUE       | 10.5       |  7.500     | 11.0       | 2010       |\n",
       "| 9 |  9         | 2018-01-07 | Sunday     | TRUE       |  3.0       |  3.000     |  3.0       | 2350       |\n",
       "| 10 | 10         | 2018-01-08 | Monday     | FALSE      | 23.0       | 23.000     | 23.0       | 1621       |\n",
       "| 11 | 11         | 2018-01-09 | Tuesday    | FALSE      | 12.0       | 12.000     | 12.0       | 1591       |\n",
       "| 12 | 12         | 2018-01-10 | Wednesday  | FALSE      | 20.0       | 20.000     | 20.0       | 1617       |\n",
       "| 1.1 |  1         | 2017-12-30 | Saturday   | TRUE       |  2.5       |  9.000     |  9.0       | 2010       |\n",
       "| 2.1 |  2         | 2017-12-31 | Sunday     | TRUE       |  2.0       |  7.375     | 10.0       | 2350       |\n",
       "| 8.1 |  8         | 2018-01-06 | Saturday   | TRUE       | 10.5       |  7.500     | 11.0       | 2010       |\n",
       "| 9.1 |  9         | 2018-01-07 | Sunday     | TRUE       |  3.0       |  3.000     |  3.0       | 2350       |\n",
       "\n"
      ],
      "text/plain": [
       "    step date       dow       weekend x1   x2     x3   revenue\n",
       "1    1   2017-12-30 Saturday  TRUE     2.5  9.000  9.0 2010   \n",
       "2    2   2017-12-31 Sunday    TRUE     2.0  7.375 10.0 2350   \n",
       "3    3   2018-01-01 Monday    FALSE    9.0  5.750  1.0 1611   \n",
       "4    4   2018-01-02 Tuesday   FALSE    6.5  4.125  2.0 1585   \n",
       "5    5   2018-01-03 Wednesday FALSE    8.0  2.500  1.5 1610   \n",
       "6    6   2018-01-04 Thursday  FALSE    4.0  8.500 10.5 1604   \n",
       "7    7   2018-01-05 Friday    FALSE    4.0  4.000  4.0 1595   \n",
       "8    8   2018-01-06 Saturday  TRUE    10.5  7.500 11.0 2010   \n",
       "9    9   2018-01-07 Sunday    TRUE     3.0  3.000  3.0 2350   \n",
       "10  10   2018-01-08 Monday    FALSE   23.0 23.000 23.0 1621   \n",
       "11  11   2018-01-09 Tuesday   FALSE   12.0 12.000 12.0 1591   \n",
       "12  12   2018-01-10 Wednesday FALSE   20.0 20.000 20.0 1617   \n",
       "1.1  1   2017-12-30 Saturday  TRUE     2.5  9.000  9.0 2010   \n",
       "2.1  2   2017-12-31 Sunday    TRUE     2.0  7.375 10.0 2350   \n",
       "8.1  8   2018-01-06 Saturday  TRUE    10.5  7.500 11.0 2010   \n",
       "9.1  9   2018-01-07 Sunday    TRUE     3.0  3.000  3.0 2350   "
      ]
     },
     "metadata": {},
     "output_type": "display_data"
    }
   ],
   "source": [
    "final.yup = final.yop[c(1:nrow(final.yop), rep(which(final.yop$weekend==\"TRUE\"), 1)),]\n",
    "\n",
    "data.frame(number_of_weekday_observations=length(which(final.yup$weekend==\"FALSE\")), \n",
    "           number_of_weekend_observations=length(which(final.yup$weekend==\"TRUE\")))\n",
    "\n",
    "final.yup"
   ]
  },
  {
   "cell_type": "markdown",
   "metadata": {},
   "source": [
    "<font size=1;>\n",
    "<p style=\"text-align: left;\">\n",
    "Copyright (c) Berkeley Data Analytics Group, LLC\n",
    "<span style=\"float: right;\">\n",
    "Document revised February 14, 2020\n",
    "</span>\n",
    "</p>\n",
    "</font>"
   ]
  }
 ],
 "metadata": {
  "hide_code_all_hidden": false,
  "hide_input": false,
  "kernelspec": {
   "display_name": "R",
   "language": "R",
   "name": "ir"
  },
  "language_info": {
   "codemirror_mode": "r",
   "file_extension": ".r",
   "mimetype": "text/x-r-source",
   "name": "R",
   "pygments_lexer": "r",
   "version": "3.6.3"
  },
  "toc": {
   "base_numbering": 1,
   "nav_menu": {},
   "number_sections": false,
   "sideBar": true,
   "skip_h1_title": true,
   "title_cell": "Table of Contents",
   "title_sidebar": "Contents",
   "toc_cell": false,
   "toc_position": {
    "height": "calc(100% - 180px)",
    "left": "10px",
    "top": "150px",
    "width": "255.865px"
   },
   "toc_section_display": true,
   "toc_window_display": true
  }
 },
 "nbformat": 4,
 "nbformat_minor": 2
}
